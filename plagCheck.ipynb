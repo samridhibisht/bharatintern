{
 "cells": [
  {
   "cell_type": "code",
   "execution_count": 5,
   "metadata": {},
   "outputs": [],
   "source": [
    "import os\n",
    "import nltk\n",
    "import numpy as numpy\n",
    "import math\n",
    "from nltk.corpus import stopwords\n",
    "\n"
   ]
  },
  {
   "cell_type": "code",
   "execution_count": 6,
   "metadata": {},
   "outputs": [
    {
     "name": "stdout",
     "output_type": "stream",
     "text": [
      "4\n"
     ]
    }
   ],
   "source": [
    "# Define a function to read text from a .txt file\n",
    "def getText(filename):\n",
    "    with open(filename, 'r', encoding='utf-8') as file:\n",
    "        fullText = file.read()\n",
    "    return fullText\n",
    "\n",
    "txtFiles = []\n",
    "directory = \"C:\\\\py\"  # Replace with your directory path\n",
    "for filename in os.listdir(directory):\n",
    "    if filename.endswith('.txt'):\n",
    "        filepath = os.path.join(directory, filename)\n",
    "        text = getText(filepath)\n",
    "        txtFiles.append(text)\n",
    "\n",
    "txtFiles.sort(key=str.lower)\n",
    "print(len(txtFiles))\n"
   ]
  },
  {
   "cell_type": "code",
   "execution_count": 7,
   "metadata": {},
   "outputs": [],
   "source": [
    "def build_lexicon(corpus):\n",
    "    lexicon=set()\n",
    "    for txt in corpus:\n",
    "        word_token=[word for word in txt.split()]\n",
    "        lower_word_list=[i.lower() for i in word_token]\n",
    "\n",
    "        porter=nltk.PorterStemmer()\n",
    "        stemmed_word=[porter.stem(t) for t in lower_word_list]\n",
    "\n",
    "        stop_words=set(stopwords.words('english'))\n",
    "        filtered_bag_of_word=[w for w in stemmed_word if not w in stop_words]\n",
    "        lexicon.update(filtered_bag_of_word)\n",
    "    return lexicon"
   ]
  },
  {
   "cell_type": "code",
   "execution_count": 9,
   "metadata": {},
   "outputs": [
    {
     "ename": "KeyboardInterrupt",
     "evalue": "",
     "output_type": "error",
     "traceback": [
      "\u001b[1;31m---------------------------------------------------------------------------\u001b[0m",
      "\u001b[1;31mKeyboardInterrupt\u001b[0m                         Traceback (most recent call last)",
      "Cell \u001b[1;32mIn[9], line 1\u001b[0m\n\u001b[1;32m----> 1\u001b[0m vocab\u001b[38;5;241m=\u001b[39m\u001b[43mbuild_lexicon\u001b[49m\u001b[43m(\u001b[49m\u001b[43mtxtFiles\u001b[49m\u001b[43m)\u001b[49m\n\u001b[0;32m      2\u001b[0m \u001b[38;5;28;01mdef\u001b[39;00m \u001b[38;5;21mtf\u001b[39m(term,text):\n\u001b[0;32m      3\u001b[0m     \u001b[38;5;28;01mreturn\u001b[39;00m freq(term,text)\n",
      "Cell \u001b[1;32mIn[7], line 8\u001b[0m, in \u001b[0;36mbuild_lexicon\u001b[1;34m(corpus)\u001b[0m\n\u001b[0;32m      5\u001b[0m lower_word_list\u001b[38;5;241m=\u001b[39m[i\u001b[38;5;241m.\u001b[39mlower() \u001b[38;5;28;01mfor\u001b[39;00m i \u001b[38;5;129;01min\u001b[39;00m word_token]\n\u001b[0;32m      7\u001b[0m porter\u001b[38;5;241m=\u001b[39mnltk\u001b[38;5;241m.\u001b[39mPorterStemmer()\n\u001b[1;32m----> 8\u001b[0m stemmed_word\u001b[38;5;241m=\u001b[39m[porter\u001b[38;5;241m.\u001b[39mstem(t) \u001b[38;5;28;01mfor\u001b[39;00m t \u001b[38;5;129;01min\u001b[39;00m lower_word_list]\n\u001b[0;32m     10\u001b[0m stop_words\u001b[38;5;241m=\u001b[39m\u001b[38;5;28mset\u001b[39m(stopwords\u001b[38;5;241m.\u001b[39mwords(\u001b[38;5;124m'\u001b[39m\u001b[38;5;124menglish\u001b[39m\u001b[38;5;124m'\u001b[39m))\n\u001b[0;32m     11\u001b[0m filtered_bag_of_word\u001b[38;5;241m=\u001b[39m[w \u001b[38;5;28;01mfor\u001b[39;00m w \u001b[38;5;129;01min\u001b[39;00m stemmed_word \u001b[38;5;28;01mif\u001b[39;00m \u001b[38;5;129;01mnot\u001b[39;00m w \u001b[38;5;129;01min\u001b[39;00m stop_words]\n",
      "Cell \u001b[1;32mIn[7], line 8\u001b[0m, in \u001b[0;36m<listcomp>\u001b[1;34m(.0)\u001b[0m\n\u001b[0;32m      5\u001b[0m lower_word_list\u001b[38;5;241m=\u001b[39m[i\u001b[38;5;241m.\u001b[39mlower() \u001b[38;5;28;01mfor\u001b[39;00m i \u001b[38;5;129;01min\u001b[39;00m word_token]\n\u001b[0;32m      7\u001b[0m porter\u001b[38;5;241m=\u001b[39mnltk\u001b[38;5;241m.\u001b[39mPorterStemmer()\n\u001b[1;32m----> 8\u001b[0m stemmed_word\u001b[38;5;241m=\u001b[39m[\u001b[43mporter\u001b[49m\u001b[38;5;241;43m.\u001b[39;49m\u001b[43mstem\u001b[49m\u001b[43m(\u001b[49m\u001b[43mt\u001b[49m\u001b[43m)\u001b[49m \u001b[38;5;28;01mfor\u001b[39;00m t \u001b[38;5;129;01min\u001b[39;00m lower_word_list]\n\u001b[0;32m     10\u001b[0m stop_words\u001b[38;5;241m=\u001b[39m\u001b[38;5;28mset\u001b[39m(stopwords\u001b[38;5;241m.\u001b[39mwords(\u001b[38;5;124m'\u001b[39m\u001b[38;5;124menglish\u001b[39m\u001b[38;5;124m'\u001b[39m))\n\u001b[0;32m     11\u001b[0m filtered_bag_of_word\u001b[38;5;241m=\u001b[39m[w \u001b[38;5;28;01mfor\u001b[39;00m w \u001b[38;5;129;01min\u001b[39;00m stemmed_word \u001b[38;5;28;01mif\u001b[39;00m \u001b[38;5;129;01mnot\u001b[39;00m w \u001b[38;5;129;01min\u001b[39;00m stop_words]\n",
      "File \u001b[1;32mc:\\Users\\SAMRIDHI BISHT\\AppData\\Local\\Programs\\Python\\Python38\\lib\\site-packages\\nltk\\stem\\porter.py:672\u001b[0m, in \u001b[0;36mPorterStemmer.stem\u001b[1;34m(self, word, to_lowercase)\u001b[0m\n\u001b[0;32m    670\u001b[0m stem \u001b[38;5;241m=\u001b[39m \u001b[38;5;28mself\u001b[39m\u001b[38;5;241m.\u001b[39m_step1b(stem)\n\u001b[0;32m    671\u001b[0m stem \u001b[38;5;241m=\u001b[39m \u001b[38;5;28mself\u001b[39m\u001b[38;5;241m.\u001b[39m_step1c(stem)\n\u001b[1;32m--> 672\u001b[0m stem \u001b[38;5;241m=\u001b[39m \u001b[38;5;28;43mself\u001b[39;49m\u001b[38;5;241;43m.\u001b[39;49m\u001b[43m_step2\u001b[49m\u001b[43m(\u001b[49m\u001b[43mstem\u001b[49m\u001b[43m)\u001b[49m\n\u001b[0;32m    673\u001b[0m stem \u001b[38;5;241m=\u001b[39m \u001b[38;5;28mself\u001b[39m\u001b[38;5;241m.\u001b[39m_step3(stem)\n\u001b[0;32m    674\u001b[0m stem \u001b[38;5;241m=\u001b[39m \u001b[38;5;28mself\u001b[39m\u001b[38;5;241m.\u001b[39m_step4(stem)\n",
      "File \u001b[1;32mc:\\Users\\SAMRIDHI BISHT\\AppData\\Local\\Programs\\Python\\Python38\\lib\\site-packages\\nltk\\stem\\porter.py:488\u001b[0m, in \u001b[0;36mPorterStemmer._step2\u001b[1;34m(self, word)\u001b[0m\n\u001b[0;32m    474\u001b[0m bli_rule \u001b[38;5;241m=\u001b[39m (\u001b[38;5;124m\"\u001b[39m\u001b[38;5;124mbli\u001b[39m\u001b[38;5;124m\"\u001b[39m, \u001b[38;5;124m\"\u001b[39m\u001b[38;5;124mble\u001b[39m\u001b[38;5;124m\"\u001b[39m, \u001b[38;5;28mself\u001b[39m\u001b[38;5;241m.\u001b[39m_has_positive_measure)\n\u001b[0;32m    475\u001b[0m abli_rule \u001b[38;5;241m=\u001b[39m (\u001b[38;5;124m\"\u001b[39m\u001b[38;5;124mabli\u001b[39m\u001b[38;5;124m\"\u001b[39m, \u001b[38;5;124m\"\u001b[39m\u001b[38;5;124mable\u001b[39m\u001b[38;5;124m\"\u001b[39m, \u001b[38;5;28mself\u001b[39m\u001b[38;5;241m.\u001b[39m_has_positive_measure)\n\u001b[0;32m    477\u001b[0m rules \u001b[38;5;241m=\u001b[39m [\n\u001b[0;32m    478\u001b[0m     (\u001b[38;5;124m\"\u001b[39m\u001b[38;5;124mational\u001b[39m\u001b[38;5;124m\"\u001b[39m, \u001b[38;5;124m\"\u001b[39m\u001b[38;5;124mate\u001b[39m\u001b[38;5;124m\"\u001b[39m, \u001b[38;5;28mself\u001b[39m\u001b[38;5;241m.\u001b[39m_has_positive_measure),\n\u001b[0;32m    479\u001b[0m     (\u001b[38;5;124m\"\u001b[39m\u001b[38;5;124mtional\u001b[39m\u001b[38;5;124m\"\u001b[39m, \u001b[38;5;124m\"\u001b[39m\u001b[38;5;124mtion\u001b[39m\u001b[38;5;124m\"\u001b[39m, \u001b[38;5;28mself\u001b[39m\u001b[38;5;241m.\u001b[39m_has_positive_measure),\n\u001b[0;32m    480\u001b[0m     (\u001b[38;5;124m\"\u001b[39m\u001b[38;5;124menci\u001b[39m\u001b[38;5;124m\"\u001b[39m, \u001b[38;5;124m\"\u001b[39m\u001b[38;5;124mence\u001b[39m\u001b[38;5;124m\"\u001b[39m, \u001b[38;5;28mself\u001b[39m\u001b[38;5;241m.\u001b[39m_has_positive_measure),\n\u001b[0;32m    481\u001b[0m     (\u001b[38;5;124m\"\u001b[39m\u001b[38;5;124manci\u001b[39m\u001b[38;5;124m\"\u001b[39m, \u001b[38;5;124m\"\u001b[39m\u001b[38;5;124mance\u001b[39m\u001b[38;5;124m\"\u001b[39m, \u001b[38;5;28mself\u001b[39m\u001b[38;5;241m.\u001b[39m_has_positive_measure),\n\u001b[0;32m    482\u001b[0m     (\u001b[38;5;124m\"\u001b[39m\u001b[38;5;124mizer\u001b[39m\u001b[38;5;124m\"\u001b[39m, \u001b[38;5;124m\"\u001b[39m\u001b[38;5;124mize\u001b[39m\u001b[38;5;124m\"\u001b[39m, \u001b[38;5;28mself\u001b[39m\u001b[38;5;241m.\u001b[39m_has_positive_measure),\n\u001b[0;32m    483\u001b[0m     abli_rule \u001b[38;5;28;01mif\u001b[39;00m \u001b[38;5;28mself\u001b[39m\u001b[38;5;241m.\u001b[39mmode \u001b[38;5;241m==\u001b[39m \u001b[38;5;28mself\u001b[39m\u001b[38;5;241m.\u001b[39mORIGINAL_ALGORITHM \u001b[38;5;28;01melse\u001b[39;00m bli_rule,\n\u001b[0;32m    484\u001b[0m     (\u001b[38;5;124m\"\u001b[39m\u001b[38;5;124malli\u001b[39m\u001b[38;5;124m\"\u001b[39m, \u001b[38;5;124m\"\u001b[39m\u001b[38;5;124mal\u001b[39m\u001b[38;5;124m\"\u001b[39m, \u001b[38;5;28mself\u001b[39m\u001b[38;5;241m.\u001b[39m_has_positive_measure),\n\u001b[0;32m    485\u001b[0m     (\u001b[38;5;124m\"\u001b[39m\u001b[38;5;124mentli\u001b[39m\u001b[38;5;124m\"\u001b[39m, \u001b[38;5;124m\"\u001b[39m\u001b[38;5;124ment\u001b[39m\u001b[38;5;124m\"\u001b[39m, \u001b[38;5;28mself\u001b[39m\u001b[38;5;241m.\u001b[39m_has_positive_measure),\n\u001b[0;32m    486\u001b[0m     (\u001b[38;5;124m\"\u001b[39m\u001b[38;5;124meli\u001b[39m\u001b[38;5;124m\"\u001b[39m, \u001b[38;5;124m\"\u001b[39m\u001b[38;5;124me\u001b[39m\u001b[38;5;124m\"\u001b[39m, \u001b[38;5;28mself\u001b[39m\u001b[38;5;241m.\u001b[39m_has_positive_measure),\n\u001b[0;32m    487\u001b[0m     (\u001b[38;5;124m\"\u001b[39m\u001b[38;5;124mousli\u001b[39m\u001b[38;5;124m\"\u001b[39m, \u001b[38;5;124m\"\u001b[39m\u001b[38;5;124mous\u001b[39m\u001b[38;5;124m\"\u001b[39m, \u001b[38;5;28mself\u001b[39m\u001b[38;5;241m.\u001b[39m_has_positive_measure),\n\u001b[1;32m--> 488\u001b[0m     (\u001b[38;5;124m\"\u001b[39m\u001b[38;5;124mization\u001b[39m\u001b[38;5;124m\"\u001b[39m, \u001b[38;5;124m\"\u001b[39m\u001b[38;5;124mize\u001b[39m\u001b[38;5;124m\"\u001b[39m, \u001b[38;5;28;43mself\u001b[39;49m\u001b[38;5;241m.\u001b[39m_has_positive_measure),\n\u001b[0;32m    489\u001b[0m     (\u001b[38;5;124m\"\u001b[39m\u001b[38;5;124mation\u001b[39m\u001b[38;5;124m\"\u001b[39m, \u001b[38;5;124m\"\u001b[39m\u001b[38;5;124mate\u001b[39m\u001b[38;5;124m\"\u001b[39m, \u001b[38;5;28mself\u001b[39m\u001b[38;5;241m.\u001b[39m_has_positive_measure),\n\u001b[0;32m    490\u001b[0m     (\u001b[38;5;124m\"\u001b[39m\u001b[38;5;124mator\u001b[39m\u001b[38;5;124m\"\u001b[39m, \u001b[38;5;124m\"\u001b[39m\u001b[38;5;124mate\u001b[39m\u001b[38;5;124m\"\u001b[39m, \u001b[38;5;28mself\u001b[39m\u001b[38;5;241m.\u001b[39m_has_positive_measure),\n\u001b[0;32m    491\u001b[0m     (\u001b[38;5;124m\"\u001b[39m\u001b[38;5;124malism\u001b[39m\u001b[38;5;124m\"\u001b[39m, \u001b[38;5;124m\"\u001b[39m\u001b[38;5;124mal\u001b[39m\u001b[38;5;124m\"\u001b[39m, \u001b[38;5;28mself\u001b[39m\u001b[38;5;241m.\u001b[39m_has_positive_measure),\n\u001b[0;32m    492\u001b[0m     (\u001b[38;5;124m\"\u001b[39m\u001b[38;5;124miveness\u001b[39m\u001b[38;5;124m\"\u001b[39m, \u001b[38;5;124m\"\u001b[39m\u001b[38;5;124mive\u001b[39m\u001b[38;5;124m\"\u001b[39m, \u001b[38;5;28mself\u001b[39m\u001b[38;5;241m.\u001b[39m_has_positive_measure),\n\u001b[0;32m    493\u001b[0m     (\u001b[38;5;124m\"\u001b[39m\u001b[38;5;124mfulness\u001b[39m\u001b[38;5;124m\"\u001b[39m, \u001b[38;5;124m\"\u001b[39m\u001b[38;5;124mful\u001b[39m\u001b[38;5;124m\"\u001b[39m, \u001b[38;5;28mself\u001b[39m\u001b[38;5;241m.\u001b[39m_has_positive_measure),\n\u001b[0;32m    494\u001b[0m     (\u001b[38;5;124m\"\u001b[39m\u001b[38;5;124mousness\u001b[39m\u001b[38;5;124m\"\u001b[39m, \u001b[38;5;124m\"\u001b[39m\u001b[38;5;124mous\u001b[39m\u001b[38;5;124m\"\u001b[39m, \u001b[38;5;28mself\u001b[39m\u001b[38;5;241m.\u001b[39m_has_positive_measure),\n\u001b[0;32m    495\u001b[0m     (\u001b[38;5;124m\"\u001b[39m\u001b[38;5;124maliti\u001b[39m\u001b[38;5;124m\"\u001b[39m, \u001b[38;5;124m\"\u001b[39m\u001b[38;5;124mal\u001b[39m\u001b[38;5;124m\"\u001b[39m, \u001b[38;5;28mself\u001b[39m\u001b[38;5;241m.\u001b[39m_has_positive_measure),\n\u001b[0;32m    496\u001b[0m     (\u001b[38;5;124m\"\u001b[39m\u001b[38;5;124miviti\u001b[39m\u001b[38;5;124m\"\u001b[39m, \u001b[38;5;124m\"\u001b[39m\u001b[38;5;124mive\u001b[39m\u001b[38;5;124m\"\u001b[39m, \u001b[38;5;28mself\u001b[39m\u001b[38;5;241m.\u001b[39m_has_positive_measure),\n\u001b[0;32m    497\u001b[0m     (\u001b[38;5;124m\"\u001b[39m\u001b[38;5;124mbiliti\u001b[39m\u001b[38;5;124m\"\u001b[39m, \u001b[38;5;124m\"\u001b[39m\u001b[38;5;124mble\u001b[39m\u001b[38;5;124m\"\u001b[39m, \u001b[38;5;28mself\u001b[39m\u001b[38;5;241m.\u001b[39m_has_positive_measure),\n\u001b[0;32m    498\u001b[0m ]\n\u001b[0;32m    500\u001b[0m \u001b[38;5;28;01mif\u001b[39;00m \u001b[38;5;28mself\u001b[39m\u001b[38;5;241m.\u001b[39mmode \u001b[38;5;241m==\u001b[39m \u001b[38;5;28mself\u001b[39m\u001b[38;5;241m.\u001b[39mNLTK_EXTENSIONS:\n\u001b[0;32m    501\u001b[0m     rules\u001b[38;5;241m.\u001b[39mappend((\u001b[38;5;124m\"\u001b[39m\u001b[38;5;124mfulli\u001b[39m\u001b[38;5;124m\"\u001b[39m, \u001b[38;5;124m\"\u001b[39m\u001b[38;5;124mful\u001b[39m\u001b[38;5;124m\"\u001b[39m, \u001b[38;5;28mself\u001b[39m\u001b[38;5;241m.\u001b[39m_has_positive_measure))\n",
      "\u001b[1;31mKeyboardInterrupt\u001b[0m: "
     ]
    }
   ],
   "source": [
    "vocab=build_lexicon(txtFiles)\n",
    "def tf(term,text):\n",
    "    return freq(term,text)\n",
    "def freq(term,text):\n",
    "    return text.split().count(term)"
   ]
  }
 ],
 "metadata": {
  "kernelspec": {
   "display_name": "Python 3",
   "language": "python",
   "name": "python3"
  },
  "language_info": {
   "codemirror_mode": {
    "name": "ipython",
    "version": 3
   },
   "file_extension": ".py",
   "mimetype": "text/x-python",
   "name": "python",
   "nbconvert_exporter": "python",
   "pygments_lexer": "ipython3",
   "version": "3.8.8"
  }
 },
 "nbformat": 4,
 "nbformat_minor": 2
}
